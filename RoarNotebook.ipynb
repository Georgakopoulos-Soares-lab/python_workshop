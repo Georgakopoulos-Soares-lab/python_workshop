{
 "cells": [
  {
   "cell_type": "markdown",
   "id": "6fff1a62-7662-4e6f-90e5-f1c3a14df654",
   "metadata": {},
   "source": [
    "# Introduction to Python"
   ]
  },
  {
   "cell_type": "code",
   "execution_count": 1,
   "id": "951df3a2-d199-4003-bf18-bd4f073ef91f",
   "metadata": {},
   "outputs": [
    {
     "name": "stdout",
     "output_type": "stream",
     "text": [
      "Hello World!\n"
     ]
    }
   ],
   "source": [
    "print(\"Hello World!\")"
   ]
  },
  {
   "cell_type": "code",
   "execution_count": 2,
   "id": "901cf47a-3a3d-48d6-b29b-0fe7f4a1eb19",
   "metadata": {},
   "outputs": [
    {
     "data": {
      "text/plain": [
       "3"
      ]
     },
     "execution_count": 2,
     "metadata": {},
     "output_type": "execute_result"
    }
   ],
   "source": [
    "1 + 2"
   ]
  },
  {
   "cell_type": "code",
   "execution_count": 3,
   "id": "07caf45c-d8c3-40ce-b707-188237e25fe0",
   "metadata": {},
   "outputs": [
    {
     "data": {
      "text/plain": [
       "128942349334290889539"
      ]
     },
     "execution_count": 3,
     "metadata": {},
     "output_type": "execute_result"
    }
   ],
   "source": [
    "128040218421908491309 + 902130912382398230"
   ]
  },
  {
   "cell_type": "code",
   "execution_count": 4,
   "id": "7b7d9efc-b738-442a-81ea-712cca562098",
   "metadata": {},
   "outputs": [
    {
     "data": {
      "text/plain": [
       "28685045978765976"
      ]
     },
     "execution_count": 4,
     "metadata": {},
     "output_type": "execute_result"
    }
   ],
   "source": [
    "2390420498230498 * 12"
   ]
  },
  {
   "cell_type": "code",
   "execution_count": 5,
   "id": "70476d5b-2058-4acb-a0cd-02c42c1e15fc",
   "metadata": {},
   "outputs": [],
   "source": [
    "x = 1\n",
    "y = 5"
   ]
  },
  {
   "cell_type": "code",
   "execution_count": 6,
   "id": "a94ee270-58bb-4d65-943b-062c463016d9",
   "metadata": {},
   "outputs": [
    {
     "data": {
      "text/plain": [
       "1"
      ]
     },
     "execution_count": 6,
     "metadata": {},
     "output_type": "execute_result"
    }
   ],
   "source": [
    "x"
   ]
  },
  {
   "cell_type": "code",
   "execution_count": 7,
   "id": "27c750c2-8a10-4db9-ace9-616f30a52052",
   "metadata": {},
   "outputs": [
    {
     "data": {
      "text/plain": [
       "6"
      ]
     },
     "execution_count": 7,
     "metadata": {},
     "output_type": "execute_result"
    }
   ],
   "source": [
    "x + y"
   ]
  },
  {
   "cell_type": "code",
   "execution_count": 8,
   "id": "7863fff5-d1a7-4910-b5d1-21420cc5d959",
   "metadata": {},
   "outputs": [
    {
     "data": {
      "text/plain": [
       "5"
      ]
     },
     "execution_count": 8,
     "metadata": {},
     "output_type": "execute_result"
    }
   ],
   "source": [
    "x * y"
   ]
  },
  {
   "cell_type": "code",
   "execution_count": 9,
   "id": "f2835f76-9f42-406e-9220-2d8f0d2ec52f",
   "metadata": {},
   "outputs": [
    {
     "data": {
      "text/plain": [
       "507"
      ]
     },
     "execution_count": 9,
     "metadata": {},
     "output_type": "execute_result"
    }
   ],
   "source": [
    "2 * x + 101 * y"
   ]
  },
  {
   "cell_type": "code",
   "execution_count": 10,
   "id": "033a5baf-4249-4fa0-9160-0908a7e68f9b",
   "metadata": {},
   "outputs": [],
   "source": [
    "x = \"I am attending a class\""
   ]
  },
  {
   "cell_type": "code",
   "execution_count": 11,
   "id": "cf7be675-b685-43f9-9a34-917643e22719",
   "metadata": {},
   "outputs": [
    {
     "data": {
      "text/plain": [
       "'I am attending a class'"
      ]
     },
     "execution_count": 11,
     "metadata": {},
     "output_type": "execute_result"
    }
   ],
   "source": [
    "x"
   ]
  },
  {
   "cell_type": "code",
   "execution_count": 12,
   "id": "948a4161-ae3c-4f48-9e70-69339656c323",
   "metadata": {},
   "outputs": [
    {
     "data": {
      "text/plain": [
       "str"
      ]
     },
     "execution_count": 12,
     "metadata": {},
     "output_type": "execute_result"
    }
   ],
   "source": [
    "type(x)"
   ]
  },
  {
   "cell_type": "code",
   "execution_count": 13,
   "id": "a6439a1e-4b72-4bcf-b9e0-ef01991eefb7",
   "metadata": {},
   "outputs": [
    {
     "data": {
      "text/plain": [
       "int"
      ]
     },
     "execution_count": 13,
     "metadata": {},
     "output_type": "execute_result"
    }
   ],
   "source": [
    "type(y)"
   ]
  },
  {
   "cell_type": "code",
   "execution_count": 14,
   "id": "4e5c0673-9365-40a9-b9a1-507b67dbe3b5",
   "metadata": {},
   "outputs": [
    {
     "data": {
      "text/plain": [
       "'I am attending a class'"
      ]
     },
     "execution_count": 14,
     "metadata": {},
     "output_type": "execute_result"
    }
   ],
   "source": [
    "x"
   ]
  },
  {
   "cell_type": "code",
   "execution_count": 15,
   "id": "dbf925a3-86dc-4925-8a87-da6204ee40b3",
   "metadata": {},
   "outputs": [
    {
     "data": {
      "text/plain": [
       "5"
      ]
     },
     "execution_count": 15,
     "metadata": {},
     "output_type": "execute_result"
    }
   ],
   "source": [
    "y"
   ]
  },
  {
   "cell_type": "code",
   "execution_count": 16,
   "id": "a7f5ed0c-67e1-4c65-bb32-95dd558a4609",
   "metadata": {},
   "outputs": [
    {
     "ename": "TypeError",
     "evalue": "can only concatenate str (not \"int\") to str",
     "output_type": "error",
     "traceback": [
      "\u001b[0;31m---------------------------------------------------------------------------\u001b[0m",
      "\u001b[0;31mTypeError\u001b[0m                                 Traceback (most recent call last)",
      "Cell \u001b[0;32mIn[16], line 1\u001b[0m\n\u001b[0;32m----> 1\u001b[0m \u001b[43mx\u001b[49m\u001b[43m \u001b[49m\u001b[38;5;241;43m+\u001b[39;49m\u001b[43m \u001b[49m\u001b[43my\u001b[49m\n",
      "\u001b[0;31mTypeError\u001b[0m: can only concatenate str (not \"int\") to str"
     ]
    }
   ],
   "source": [
    "x + y"
   ]
  },
  {
   "cell_type": "markdown",
   "id": "29e7561a-a032-4f4f-afa1-b6133157be61",
   "metadata": {},
   "source": [
    "# Lists"
   ]
  },
  {
   "cell_type": "code",
   "execution_count": 17,
   "id": "a92ccb0e-295d-48d5-ac7d-8eb73b181ca9",
   "metadata": {},
   "outputs": [],
   "source": [
    "my_integer_list = [ 5, 2, 3, 4, 5]"
   ]
  },
  {
   "cell_type": "code",
   "execution_count": 18,
   "id": "17750387-c484-4e61-8ef1-bdaac986b443",
   "metadata": {},
   "outputs": [
    {
     "data": {
      "text/plain": [
       "[5, 2, 3, 4, 5]"
      ]
     },
     "execution_count": 18,
     "metadata": {},
     "output_type": "execute_result"
    }
   ],
   "source": [
    "my_integer_list"
   ]
  },
  {
   "cell_type": "code",
   "execution_count": 19,
   "id": "e2458aec-18b3-4a74-aba7-b33969c133b8",
   "metadata": {},
   "outputs": [
    {
     "data": {
      "text/plain": [
       "['1', '2', '5']"
      ]
     },
     "execution_count": 19,
     "metadata": {},
     "output_type": "execute_result"
    }
   ],
   "source": [
    "my_string_list = [\"1\", '2', '5']\n",
    "my_string_list"
   ]
  },
  {
   "cell_type": "code",
   "execution_count": 20,
   "id": "627d15a3-aef6-4977-8f3c-aaf4fefa7c61",
   "metadata": {},
   "outputs": [
    {
     "data": {
      "text/plain": [
       "[1, 2, 3, '1', '2', '3']"
      ]
     },
     "execution_count": 20,
     "metadata": {},
     "output_type": "execute_result"
    }
   ],
   "source": [
    "my_integer_and_string_list = [ 1, 2, 3, \"1\", \"2\", \"3\"]\n",
    "my_integer_and_string_list"
   ]
  },
  {
   "cell_type": "code",
   "execution_count": 21,
   "id": "537d081b-f65e-4d64-8da9-527e662c0334",
   "metadata": {},
   "outputs": [
    {
     "data": {
      "text/plain": [
       "[5, 2, 3, 4, 5]"
      ]
     },
     "execution_count": 21,
     "metadata": {},
     "output_type": "execute_result"
    }
   ],
   "source": [
    "my_integer_list"
   ]
  },
  {
   "cell_type": "code",
   "execution_count": 22,
   "id": "cb4ed3ba-76e9-4053-aa2c-da5d8510b53c",
   "metadata": {},
   "outputs": [
    {
     "data": {
      "text/plain": [
       "5"
      ]
     },
     "execution_count": 22,
     "metadata": {},
     "output_type": "execute_result"
    }
   ],
   "source": [
    "my_integer_list[0]"
   ]
  },
  {
   "cell_type": "code",
   "execution_count": 23,
   "id": "d3e29954-d763-448a-afc2-bb0e8ee9c320",
   "metadata": {},
   "outputs": [
    {
     "data": {
      "text/plain": [
       "2"
      ]
     },
     "execution_count": 23,
     "metadata": {},
     "output_type": "execute_result"
    }
   ],
   "source": [
    "my_integer_list[1]"
   ]
  },
  {
   "cell_type": "code",
   "execution_count": 24,
   "id": "7589c953-3da2-4bc1-8c7b-33789a70851c",
   "metadata": {},
   "outputs": [
    {
     "data": {
      "text/plain": [
       "5"
      ]
     },
     "execution_count": 24,
     "metadata": {},
     "output_type": "execute_result"
    }
   ],
   "source": [
    "my_integer_list[-1]"
   ]
  },
  {
   "cell_type": "code",
   "execution_count": 25,
   "id": "2393ac93-773c-4155-9828-e66d70b5178d",
   "metadata": {},
   "outputs": [
    {
     "data": {
      "text/plain": [
       "4"
      ]
     },
     "execution_count": 25,
     "metadata": {},
     "output_type": "execute_result"
    }
   ],
   "source": [
    "my_integer_list[-2]"
   ]
  },
  {
   "cell_type": "code",
   "execution_count": 27,
   "id": "838bfe52-f6f5-4690-a22c-b306db159d37",
   "metadata": {},
   "outputs": [
    {
     "data": {
      "text/plain": [
       "[5, 2, 3, 4, 5]"
      ]
     },
     "execution_count": 27,
     "metadata": {},
     "output_type": "execute_result"
    }
   ],
   "source": [
    "my_integer_list"
   ]
  },
  {
   "cell_type": "code",
   "execution_count": 26,
   "id": "5c33d039-2a77-43ef-900a-9d1d9f87775c",
   "metadata": {},
   "outputs": [
    {
     "data": {
      "text/plain": [
       "[2, 3, 4, 5]"
      ]
     },
     "execution_count": 26,
     "metadata": {},
     "output_type": "execute_result"
    }
   ],
   "source": [
    "my_integer_list[1:]"
   ]
  },
  {
   "cell_type": "code",
   "execution_count": 29,
   "id": "eb67ed88-988e-435b-99ae-254ea630f679",
   "metadata": {},
   "outputs": [
    {
     "data": {
      "text/plain": [
       "[]"
      ]
     },
     "execution_count": 29,
     "metadata": {},
     "output_type": "execute_result"
    }
   ],
   "source": [
    "my_integer_list[10:]"
   ]
  },
  {
   "cell_type": "code",
   "execution_count": 30,
   "id": "fbc38b32-de48-4101-9eb9-92c5def8585f",
   "metadata": {},
   "outputs": [
    {
     "data": {
      "text/plain": [
       "5"
      ]
     },
     "execution_count": 30,
     "metadata": {},
     "output_type": "execute_result"
    }
   ],
   "source": [
    "len(my_integer_list)"
   ]
  },
  {
   "cell_type": "code",
   "execution_count": 31,
   "id": "256b72a6-bc87-434b-9f3f-873b46c3fedc",
   "metadata": {},
   "outputs": [
    {
     "data": {
      "text/plain": [
       "3"
      ]
     },
     "execution_count": 31,
     "metadata": {},
     "output_type": "execute_result"
    }
   ],
   "source": [
    "len(my_integer_list[2:])"
   ]
  },
  {
   "cell_type": "code",
   "execution_count": 32,
   "id": "1970c274-5418-4eb2-b969-1b0f4aadf2d2",
   "metadata": {},
   "outputs": [
    {
     "data": {
      "text/plain": [
       "19"
      ]
     },
     "execution_count": 32,
     "metadata": {},
     "output_type": "execute_result"
    }
   ],
   "source": [
    "sum(my_integer_list)"
   ]
  },
  {
   "cell_type": "code",
   "execution_count": 33,
   "id": "22c02a1f-e229-4d06-81a8-466fce9467b4",
   "metadata": {},
   "outputs": [
    {
     "data": {
      "text/plain": [
       "5"
      ]
     },
     "execution_count": 33,
     "metadata": {},
     "output_type": "execute_result"
    }
   ],
   "source": [
    "max(my_integer_list)"
   ]
  },
  {
   "cell_type": "code",
   "execution_count": 34,
   "id": "d99451cf-88f3-46d6-95d5-a8d22e20b73d",
   "metadata": {},
   "outputs": [
    {
     "data": {
      "text/plain": [
       "2"
      ]
     },
     "execution_count": 34,
     "metadata": {},
     "output_type": "execute_result"
    }
   ],
   "source": [
    "min(my_integer_list)"
   ]
  },
  {
   "cell_type": "markdown",
   "id": "5275ccf3-d9d7-4ef1-a8a6-1a066036a138",
   "metadata": {},
   "source": [
    "## My String"
   ]
  },
  {
   "cell_type": "markdown",
   "id": "e10df2e4-0575-481c-b0e9-265e6d28ade2",
   "metadata": {},
   "source": [
    "Now time for the string list"
   ]
  },
  {
   "cell_type": "code",
   "execution_count": 35,
   "id": "8212195b-11ca-42d6-9a34-0675ecc9334e",
   "metadata": {},
   "outputs": [
    {
     "data": {
      "text/plain": [
       "['1', '2', '5']"
      ]
     },
     "execution_count": 35,
     "metadata": {},
     "output_type": "execute_result"
    }
   ],
   "source": [
    "my_string_list"
   ]
  },
  {
   "cell_type": "code",
   "execution_count": 36,
   "id": "d56f7b03-d624-495e-a602-b61ad52e197f",
   "metadata": {},
   "outputs": [
    {
     "data": {
      "text/plain": [
       "3"
      ]
     },
     "execution_count": 36,
     "metadata": {},
     "output_type": "execute_result"
    }
   ],
   "source": [
    "len(my_string_list)"
   ]
  },
  {
   "cell_type": "code",
   "execution_count": 37,
   "id": "6298b4ec-af41-465b-9d82-470087a0ef02",
   "metadata": {},
   "outputs": [
    {
     "data": {
      "text/plain": [
       "'5'"
      ]
     },
     "execution_count": 37,
     "metadata": {},
     "output_type": "execute_result"
    }
   ],
   "source": [
    "max(my_string_list)"
   ]
  },
  {
   "cell_type": "code",
   "execution_count": 38,
   "id": "9fb5a325-7c1a-4852-8e2b-13a4c06f84a6",
   "metadata": {},
   "outputs": [],
   "source": [
    "my_string_extended_list = ['1', 'a2', '2', '3', '5']"
   ]
  },
  {
   "cell_type": "code",
   "execution_count": 40,
   "id": "4a57e76f-b651-4cf8-80dd-02a2e8a60c16",
   "metadata": {},
   "outputs": [
    {
     "data": {
      "text/plain": [
       "'a2'"
      ]
     },
     "execution_count": 40,
     "metadata": {},
     "output_type": "execute_result"
    }
   ],
   "source": [
    "max(my_string_extended_list)"
   ]
  },
  {
   "cell_type": "code",
   "execution_count": 41,
   "id": "6af1a91c-e44d-4b63-9458-3fed68e504fe",
   "metadata": {},
   "outputs": [
    {
     "ename": "TypeError",
     "evalue": "unsupported operand type(s) for +: 'int' and 'str'",
     "output_type": "error",
     "traceback": [
      "\u001b[0;31m---------------------------------------------------------------------------\u001b[0m",
      "\u001b[0;31mTypeError\u001b[0m                                 Traceback (most recent call last)",
      "Cell \u001b[0;32mIn[41], line 1\u001b[0m\n\u001b[0;32m----> 1\u001b[0m \u001b[38;5;28;43msum\u001b[39;49m\u001b[43m(\u001b[49m\u001b[43mmy_string_extended_list\u001b[49m\u001b[43m)\u001b[49m\n",
      "\u001b[0;31mTypeError\u001b[0m: unsupported operand type(s) for +: 'int' and 'str'"
     ]
    }
   ],
   "source": [
    "sum(my_string_extended_list)"
   ]
  },
  {
   "cell_type": "code",
   "execution_count": 42,
   "id": "2d00e459-30ce-4ced-9b73-ddd603225eff",
   "metadata": {},
   "outputs": [
    {
     "data": {
      "text/plain": [
       "['1', 'a2', '2', '3', '5']"
      ]
     },
     "execution_count": 42,
     "metadata": {},
     "output_type": "execute_result"
    }
   ],
   "source": [
    "my_string_extended_list"
   ]
  },
  {
   "cell_type": "code",
   "execution_count": 43,
   "id": "6765f56d-3782-48da-9af1-2ac9ffdb159e",
   "metadata": {},
   "outputs": [
    {
     "data": {
      "text/plain": [
       "['2', '3']"
      ]
     },
     "execution_count": 43,
     "metadata": {},
     "output_type": "execute_result"
    }
   ],
   "source": [
    "my_string_extended_list[2:4]"
   ]
  },
  {
   "cell_type": "code",
   "execution_count": 45,
   "id": "0405d9f4-dfed-4e9f-9dea-e5bdd19c7b04",
   "metadata": {},
   "outputs": [
    {
     "data": {
      "text/plain": [
       "['1', 'a2', '2', '3', '5']"
      ]
     },
     "execution_count": 45,
     "metadata": {},
     "output_type": "execute_result"
    }
   ],
   "source": [
    "my_string_extended_list"
   ]
  },
  {
   "cell_type": "code",
   "execution_count": 47,
   "id": "634bc509-80ce-4376-8db1-eb6c7bbbfa63",
   "metadata": {},
   "outputs": [
    {
     "data": {
      "text/plain": [
       "['a2', '2']"
      ]
     },
     "execution_count": 47,
     "metadata": {},
     "output_type": "execute_result"
    }
   ],
   "source": [
    "my_string_extended_list[1:3]"
   ]
  },
  {
   "cell_type": "markdown",
   "id": "b023989b-61d1-4da0-9579-4ad7c239dd17",
   "metadata": {},
   "source": [
    "my_string_extended_list[START_INDEX: END_INDEX]"
   ]
  },
  {
   "cell_type": "code",
   "execution_count": null,
   "id": "4328f466-271d-434c-9980-6d5db2114331",
   "metadata": {},
   "outputs": [],
   "source": [
    "my_string_extended_list.dance()"
   ]
  },
  {
   "cell_type": "code",
   "execution_count": 48,
   "id": "860df007-da94-4979-b691-a299a244a4dd",
   "metadata": {},
   "outputs": [],
   "source": [
    "my_string_extended_list.append(\"jsdfijsdbf\")"
   ]
  },
  {
   "cell_type": "code",
   "execution_count": 49,
   "id": "d433e129-1cbf-4168-ac1f-b00281bdcba9",
   "metadata": {},
   "outputs": [
    {
     "data": {
      "text/plain": [
       "['1', 'a2', '2', '3', '5', 'jsdfijsdbf']"
      ]
     },
     "execution_count": 49,
     "metadata": {},
     "output_type": "execute_result"
    }
   ],
   "source": [
    "my_string_extended_list"
   ]
  },
  {
   "cell_type": "code",
   "execution_count": 50,
   "id": "3ff7881c-c185-482a-be5a-c5df65c94e25",
   "metadata": {},
   "outputs": [],
   "source": [
    "my_string_extended_list = my_string_extended_list + [\"Hello\"]"
   ]
  },
  {
   "cell_type": "code",
   "execution_count": 51,
   "id": "4b64e585-278d-4182-a15b-c8f8b235e735",
   "metadata": {},
   "outputs": [
    {
     "data": {
      "text/plain": [
       "['1', 'a2', '2', '3', '5', 'jsdfijsdbf', 'Hello']"
      ]
     },
     "execution_count": 51,
     "metadata": {},
     "output_type": "execute_result"
    }
   ],
   "source": [
    "my_string_extended_list"
   ]
  },
  {
   "cell_type": "code",
   "execution_count": 52,
   "id": "f9ef691e-2403-4d03-b3e5-ec8b42ffdfac",
   "metadata": {},
   "outputs": [],
   "source": [
    "my_string_extended_list = my_string_extended_list + [\"World\"]"
   ]
  },
  {
   "cell_type": "code",
   "execution_count": 53,
   "id": "457ce29c-fead-4614-9b6f-e0aa383dcfd4",
   "metadata": {},
   "outputs": [
    {
     "data": {
      "text/plain": [
       "['1', 'a2', '2', '3', '5', 'jsdfijsdbf', 'Hello', 'World']"
      ]
     },
     "execution_count": 53,
     "metadata": {},
     "output_type": "execute_result"
    }
   ],
   "source": [
    "my_string_extended_list"
   ]
  },
  {
   "cell_type": "code",
   "execution_count": 54,
   "id": "c8e36b87-1aae-4e32-b8fe-496e2830450d",
   "metadata": {},
   "outputs": [],
   "source": [
    "my_string_extended_list.sort()"
   ]
  },
  {
   "cell_type": "code",
   "execution_count": 55,
   "id": "bb69379b-4b07-404b-9a2b-cbacf20609c4",
   "metadata": {},
   "outputs": [
    {
     "data": {
      "text/plain": [
       "['1', '2', '3', '5', 'Hello', 'World', 'a2', 'jsdfijsdbf']"
      ]
     },
     "execution_count": 55,
     "metadata": {},
     "output_type": "execute_result"
    }
   ],
   "source": [
    "my_string_extended_list"
   ]
  },
  {
   "cell_type": "code",
   "execution_count": 56,
   "id": "8a43b0d6-ef75-43d3-aacf-6264901a8d6f",
   "metadata": {},
   "outputs": [
    {
     "ename": "AttributeError",
     "evalue": "'list' object has no attribute 'dance'",
     "output_type": "error",
     "traceback": [
      "\u001b[0;31m---------------------------------------------------------------------------\u001b[0m",
      "\u001b[0;31mAttributeError\u001b[0m                            Traceback (most recent call last)",
      "Cell \u001b[0;32mIn[56], line 1\u001b[0m\n\u001b[0;32m----> 1\u001b[0m \u001b[43mmy_string_extended_list\u001b[49m\u001b[38;5;241;43m.\u001b[39;49m\u001b[43mdance\u001b[49m()\n",
      "\u001b[0;31mAttributeError\u001b[0m: 'list' object has no attribute 'dance'"
     ]
    }
   ],
   "source": [
    "my_string_extended_list.dance()"
   ]
  },
  {
   "cell_type": "code",
   "execution_count": 57,
   "id": "a8710b3b-55e3-4899-9c1b-ed9678d57243",
   "metadata": {},
   "outputs": [
    {
     "data": {
      "text/plain": [
       "<function list.append(object, /)>"
      ]
     },
     "execution_count": 57,
     "metadata": {},
     "output_type": "execute_result"
    }
   ],
   "source": [
    "my_string_extended_list.append"
   ]
  },
  {
   "cell_type": "code",
   "execution_count": 58,
   "id": "1f7f2589-fa14-46f7-aa1c-d294b57b78e0",
   "metadata": {},
   "outputs": [],
   "source": [
    "my_string_extended_list.append(23123123)"
   ]
  },
  {
   "cell_type": "code",
   "execution_count": 59,
   "id": "f15568e4-a500-452c-a983-370cb241d3db",
   "metadata": {},
   "outputs": [
    {
     "data": {
      "text/plain": [
       "['1', '2', '3', '5', 'Hello', 'World', 'a2', 'jsdfijsdbf', 23123123]"
      ]
     },
     "execution_count": 59,
     "metadata": {},
     "output_type": "execute_result"
    }
   ],
   "source": [
    "my_string_extended_list"
   ]
  },
  {
   "cell_type": "markdown",
   "id": "898cfc74-b3ba-45c6-a9b3-bf81529e2842",
   "metadata": {},
   "source": [
    "- FIRST INDEX -> INCLUSIVE\n",
    "- END_INDEX -> EXCLUSIVE"
   ]
  },
  {
   "cell_type": "markdown",
   "id": "1973074d-3b7a-40b0-923a-f6ef27d5c7f8",
   "metadata": {},
   "source": [
    "## For Loops"
   ]
  },
  {
   "cell_type": "code",
   "execution_count": 60,
   "id": "8919393e-7df7-4418-8e2a-371bae95f4f6",
   "metadata": {},
   "outputs": [
    {
     "data": {
      "text/plain": [
       "['1', '2', '3', '5', 'Hello', 'World', 'a2', 'jsdfijsdbf', 23123123]"
      ]
     },
     "execution_count": 60,
     "metadata": {},
     "output_type": "execute_result"
    }
   ],
   "source": [
    "my_string_extended_list"
   ]
  },
  {
   "cell_type": "code",
   "execution_count": 62,
   "id": "0d8e7cc1-67a8-4c60-9d10-724e2dae3d4b",
   "metadata": {},
   "outputs": [
    {
     "data": {
      "text/plain": [
       "list"
      ]
     },
     "execution_count": 62,
     "metadata": {},
     "output_type": "execute_result"
    }
   ],
   "source": [
    "type(my_string_extended_list)"
   ]
  },
  {
   "cell_type": "code",
   "execution_count": 61,
   "id": "acced934-7c8c-4d6e-b48d-3f1c6e154319",
   "metadata": {},
   "outputs": [
    {
     "data": {
      "text/plain": [
       "str"
      ]
     },
     "execution_count": 61,
     "metadata": {},
     "output_type": "execute_result"
    }
   ],
   "source": [
    "type(\"Hello\")"
   ]
  },
  {
   "cell_type": "code",
   "execution_count": 63,
   "id": "f2e040c6-1cbf-44c7-975a-9c20671b07fe",
   "metadata": {},
   "outputs": [
    {
     "name": "stdout",
     "output_type": "stream",
     "text": [
      "Hello World!\n"
     ]
    }
   ],
   "source": [
    "print(\"Hello World!\")"
   ]
  },
  {
   "cell_type": "code",
   "execution_count": 64,
   "id": "6ce69474-cbe4-4790-96de-9e9121a5dc93",
   "metadata": {},
   "outputs": [
    {
     "name": "stdout",
     "output_type": "stream",
     "text": [
      "['1', '2', '3', '5', 'Hello', 'World', 'a2', 'jsdfijsdbf', 23123123]\n"
     ]
    }
   ],
   "source": [
    "print(my_string_extended_list)"
   ]
  },
  {
   "cell_type": "code",
   "execution_count": 65,
   "id": "8240c59c-f6e1-44ce-bb11-8c356c40817d",
   "metadata": {},
   "outputs": [
    {
     "name": "stdout",
     "output_type": "stream",
     "text": [
      "1\n",
      "2\n",
      "3\n",
      "5\n",
      "Hello\n",
      "World\n",
      "a2\n",
      "jsdfijsdbf\n",
      "23123123\n"
     ]
    }
   ],
   "source": [
    "for item in my_string_extended_list:\n",
    "    print(item)"
   ]
  },
  {
   "cell_type": "code",
   "execution_count": 66,
   "id": "dc000e1f-2ab1-4994-9dc7-002777975f1b",
   "metadata": {},
   "outputs": [
    {
     "data": {
      "text/plain": [
       "[5, 2, 3, 4, 5]"
      ]
     },
     "execution_count": 66,
     "metadata": {},
     "output_type": "execute_result"
    }
   ],
   "source": [
    "my_integer_list"
   ]
  },
  {
   "cell_type": "code",
   "execution_count": 67,
   "id": "746c382e-3f71-40b8-8f7c-5b9502a6a62f",
   "metadata": {},
   "outputs": [
    {
     "data": {
      "text/plain": [
       "19"
      ]
     },
     "execution_count": 67,
     "metadata": {},
     "output_type": "execute_result"
    }
   ],
   "source": [
    "sum(my_integer_list)"
   ]
  },
  {
   "cell_type": "code",
   "execution_count": 72,
   "id": "1357379f-a59b-4715-81bb-014ef21a098f",
   "metadata": {},
   "outputs": [
    {
     "data": {
      "text/plain": [
       "0"
      ]
     },
     "execution_count": 72,
     "metadata": {},
     "output_type": "execute_result"
    }
   ],
   "source": [
    "total_sum = 0\n",
    "total_sum"
   ]
  },
  {
   "cell_type": "code",
   "execution_count": 74,
   "id": "a733a456-2429-4944-b823-35b20fd6a12a",
   "metadata": {},
   "outputs": [
    {
     "data": {
      "text/plain": [
       "[5, 2, 3, 4, 5]"
      ]
     },
     "execution_count": 74,
     "metadata": {},
     "output_type": "execute_result"
    }
   ],
   "source": [
    "my_integer_list"
   ]
  },
  {
   "cell_type": "code",
   "execution_count": 75,
   "id": "d63721b6-c529-4574-a372-b6878f8a716d",
   "metadata": {},
   "outputs": [
    {
     "name": "stdout",
     "output_type": "stream",
     "text": [
      "Total sum now: 19 5\n",
      "Total sum now: 24 2\n",
      "Total sum now: 26 3\n",
      "Total sum now: 29 4\n",
      "Total sum now: 33 5\n"
     ]
    },
    {
     "data": {
      "text/plain": [
       "38"
      ]
     },
     "execution_count": 75,
     "metadata": {},
     "output_type": "execute_result"
    }
   ],
   "source": [
    "for item in my_integer_list:\n",
    "    print(\"Total sum now:\", total_sum, item)\n",
    "    \n",
    "    # total_sum = total_sum + item\n",
    "\n",
    "    total_sum += item\n",
    "    \n",
    "total_sum"
   ]
  },
  {
   "cell_type": "code",
   "execution_count": 76,
   "id": "6ad4975f-146e-4b45-a5b9-fc7dceecbfb1",
   "metadata": {},
   "outputs": [
    {
     "data": {
      "text/plain": [
       "[5, 2, 3, 4, 5]"
      ]
     },
     "execution_count": 76,
     "metadata": {},
     "output_type": "execute_result"
    }
   ],
   "source": [
    "my_integer_list"
   ]
  },
  {
   "cell_type": "code",
   "execution_count": 77,
   "id": "da4c3d8f-7d5b-40de-8b81-751077c63e37",
   "metadata": {},
   "outputs": [],
   "source": [
    "my_integer_list.insert(1, 5)"
   ]
  },
  {
   "cell_type": "code",
   "execution_count": 78,
   "id": "97d961cf-8621-467b-a070-2a741f587e4b",
   "metadata": {},
   "outputs": [
    {
     "data": {
      "text/plain": [
       "[5, 5, 2, 3, 4, 5]"
      ]
     },
     "execution_count": 78,
     "metadata": {},
     "output_type": "execute_result"
    }
   ],
   "source": [
    "my_integer_list"
   ]
  },
  {
   "cell_type": "markdown",
   "id": "315a9001-4cb4-4d04-ace8-df544a8580cc",
   "metadata": {},
   "source": [
    "# Functions"
   ]
  },
  {
   "cell_type": "markdown",
   "id": "426bcf87-2b3d-4acd-b99f-b7981cb9de58",
   "metadata": {},
   "source": []
  },
  {
   "cell_type": "code",
   "execution_count": 79,
   "id": "4fe85e84-229a-4fa5-a2e1-7267c8307efd",
   "metadata": {},
   "outputs": [],
   "source": [
    "def a_new_function(number):\n",
    "    return number"
   ]
  },
  {
   "cell_type": "code",
   "execution_count": 80,
   "id": "a6118177-75b9-429d-96f8-371379c0ff57",
   "metadata": {},
   "outputs": [
    {
     "data": {
      "text/plain": [
       "<function __main__.a_new_function(number)>"
      ]
     },
     "execution_count": 80,
     "metadata": {},
     "output_type": "execute_result"
    }
   ],
   "source": [
    "a_new_function"
   ]
  },
  {
   "cell_type": "code",
   "execution_count": 81,
   "id": "429eba8e-0bad-47c6-91c8-577fdf75f2cb",
   "metadata": {},
   "outputs": [
    {
     "data": {
      "text/plain": [
       "58"
      ]
     },
     "execution_count": 81,
     "metadata": {},
     "output_type": "execute_result"
    }
   ],
   "source": [
    "a_new_function(58)"
   ]
  },
  {
   "cell_type": "code",
   "execution_count": 82,
   "id": "318ed26f-2321-493a-a98b-e97a1156f422",
   "metadata": {},
   "outputs": [
    {
     "data": {
      "text/plain": [
       "'*(@#(*@!#&!@#*!@#&('"
      ]
     },
     "execution_count": 82,
     "metadata": {},
     "output_type": "execute_result"
    }
   ],
   "source": [
    "a_new_function(\"*(@#(*@!#&!@#*!@#&(\")"
   ]
  },
  {
   "cell_type": "code",
   "execution_count": 83,
   "id": "39ae2fcf-4ecc-4530-af31-4e56da3c9380",
   "metadata": {},
   "outputs": [],
   "source": [
    "def new_function():\n",
    "    pass"
   ]
  },
  {
   "cell_type": "code",
   "execution_count": 87,
   "id": "59cbd8fd-c9ea-49f6-9e6e-0e90158874df",
   "metadata": {},
   "outputs": [],
   "source": [
    "a_new_function(new_function)()"
   ]
  },
  {
   "cell_type": "code",
   "execution_count": 96,
   "id": "ef4c7a66-eea0-4e26-8616-aaf4d490eeca",
   "metadata": {},
   "outputs": [
    {
     "data": {
      "text/plain": [
       "False"
      ]
     },
     "execution_count": 96,
     "metadata": {},
     "output_type": "execute_result"
    }
   ],
   "source": [
    "1 == 2"
   ]
  },
  {
   "cell_type": "code",
   "execution_count": 97,
   "id": "bed94c61-3472-4f75-a99d-27cf5d03c768",
   "metadata": {},
   "outputs": [
    {
     "data": {
      "text/plain": [
       "False"
      ]
     },
     "execution_count": 97,
     "metadata": {},
     "output_type": "execute_result"
    }
   ],
   "source": [
    "1 == \"Spaghetti\""
   ]
  },
  {
   "cell_type": "code",
   "execution_count": 100,
   "id": "03429fb6-b7d5-42e6-b6ad-55265c919000",
   "metadata": {},
   "outputs": [
    {
     "data": {
      "text/plain": [
       "True"
      ]
     },
     "execution_count": 100,
     "metadata": {},
     "output_type": "execute_result"
    }
   ],
   "source": [
    "1 == 11 % 2"
   ]
  },
  {
   "cell_type": "code",
   "execution_count": 98,
   "id": "e6bba7b8-fc7c-4881-94e4-33e016892e9b",
   "metadata": {},
   "outputs": [
    {
     "data": {
      "text/plain": [
       "True"
      ]
     },
     "execution_count": 98,
     "metadata": {},
     "output_type": "execute_result"
    }
   ],
   "source": [
    "1 == 1"
   ]
  },
  {
   "cell_type": "code",
   "execution_count": 105,
   "id": "55b20f85-e033-4b7e-9e63-c7c326197224",
   "metadata": {},
   "outputs": [],
   "source": [
    "def even_function(my_list_of_numbers):\n",
    "\n",
    "    total_sum_of_even_numbers = 0\n",
    "    # ____ = 0\n",
    "\n",
    "    for item in my_list_of_numbers:\n",
    "\n",
    "        if item % 2 == 0:\n",
    "            total_sum_of_even_numbers += item\n",
    "            \n",
    "    return total_sum_of_even_numbers"
   ]
  },
  {
   "cell_type": "markdown",
   "id": "c5c2d7a2-deda-41b9-9423-b2d4e88133a8",
   "metadata": {},
   "source": [
    "# Print random variables"
   ]
  },
  {
   "cell_type": "markdown",
   "id": "a4f740e9-5cf8-4a88-8d47-24298cfa4a23",
   "metadata": {},
   "source": [
    "Remember when you put '#' in front is regarded as a COMMENT!"
   ]
  },
  {
   "cell_type": "code",
   "execution_count": 107,
   "id": "319085bc-230c-4f32-9e01-9cd495e1c39b",
   "metadata": {},
   "outputs": [],
   "source": [
    "# import a module\n",
    "import random"
   ]
  },
  {
   "cell_type": "code",
   "execution_count": 122,
   "id": "0e16d723-da5e-4e96-9108-b07dde03d1e0",
   "metadata": {},
   "outputs": [
    {
     "data": {
      "text/plain": [
       "99"
      ]
     },
     "execution_count": 122,
     "metadata": {},
     "output_type": "execute_result"
    }
   ],
   "source": [
    "random.randint(99, 100)"
   ]
  },
  {
   "cell_type": "code",
   "execution_count": 113,
   "id": "0ce6d807-5bb0-41b2-ad8b-7f70138d56bb",
   "metadata": {},
   "outputs": [
    {
     "data": {
      "text/plain": [
       "10000"
      ]
     },
     "execution_count": 113,
     "metadata": {},
     "output_type": "execute_result"
    }
   ],
   "source": [
    "random_list_of_even_numbers = [random.randint(1, 100) for _ in range(10_000)]\n",
    "len(random_list_of_even_numbers)"
   ]
  },
  {
   "cell_type": "code",
   "execution_count": 115,
   "id": "29d7bdcc-a751-49b8-bfdd-da3f24cc8937",
   "metadata": {},
   "outputs": [],
   "source": [
    "# random_list_of_even_numbers"
   ]
  },
  {
   "cell_type": "code",
   "execution_count": 106,
   "id": "a0d7491e-f7eb-41f9-91b7-f478be7b6741",
   "metadata": {},
   "outputs": [
    {
     "data": {
      "text/plain": [
       "106"
      ]
     },
     "execution_count": 106,
     "metadata": {},
     "output_type": "execute_result"
    }
   ],
   "source": [
    "even_function([1, 2, 3, 4, 100])"
   ]
  },
  {
   "cell_type": "code",
   "execution_count": 116,
   "id": "a977a10b-eff7-4085-90c8-3d5f04531ae9",
   "metadata": {},
   "outputs": [
    {
     "data": {
      "text/plain": [
       "253990"
      ]
     },
     "execution_count": 116,
     "metadata": {},
     "output_type": "execute_result"
    }
   ],
   "source": [
    "even_function(random_list_of_even_numbers)"
   ]
  },
  {
   "cell_type": "code",
   "execution_count": 90,
   "id": "432527da-f3fd-47ea-b7ed-11d45a9814f8",
   "metadata": {},
   "outputs": [],
   "source": [
    "my_list = [1, 2, 3, 4, 100]"
   ]
  },
  {
   "cell_type": "code",
   "execution_count": 92,
   "id": "ed497a69-7943-4347-b987-28d86cc52f8a",
   "metadata": {},
   "outputs": [
    {
     "data": {
      "text/plain": [
       "1"
      ]
     },
     "execution_count": 92,
     "metadata": {},
     "output_type": "execute_result"
    }
   ],
   "source": [
    "100023484282083001 % 2"
   ]
  },
  {
   "cell_type": "code",
   "execution_count": null,
   "id": "c6605eca-95be-4833-a7e9-2ea1a7ee5307",
   "metadata": {},
   "outputs": [],
   "source": []
  },
  {
   "cell_type": "code",
   "execution_count": null,
   "id": "079b7dfe-e9da-457d-b950-bd1a030db8f6",
   "metadata": {},
   "outputs": [],
   "source": []
  },
  {
   "cell_type": "code",
   "execution_count": null,
   "id": "3c1600bd-3b40-4185-bf05-e96f23b3ece1",
   "metadata": {},
   "outputs": [],
   "source": []
  },
  {
   "cell_type": "code",
   "execution_count": null,
   "id": "343e0b7c-8b1d-4043-878b-4db0c268d8d1",
   "metadata": {},
   "outputs": [],
   "source": []
  },
  {
   "cell_type": "code",
   "execution_count": null,
   "id": "d65a6f7f-04c6-4c3b-86d9-23d62bbe0680",
   "metadata": {},
   "outputs": [],
   "source": []
  },
  {
   "cell_type": "code",
   "execution_count": null,
   "id": "58747110-7b80-4628-bc81-e5ba75336d1a",
   "metadata": {},
   "outputs": [],
   "source": []
  },
  {
   "cell_type": "code",
   "execution_count": null,
   "id": "15f11113-7389-458d-9bbc-2f66cd680cab",
   "metadata": {},
   "outputs": [],
   "source": []
  },
  {
   "cell_type": "code",
   "execution_count": null,
   "id": "bd0f64a9-fb1f-4fec-9f86-73c81f78a226",
   "metadata": {},
   "outputs": [],
   "source": []
  },
  {
   "cell_type": "code",
   "execution_count": null,
   "id": "79c1388a-bfb2-49d0-aac8-8e6971626244",
   "metadata": {},
   "outputs": [],
   "source": []
  },
  {
   "cell_type": "code",
   "execution_count": null,
   "id": "5466e06c-af9f-4f28-8b9c-931cc30a2f91",
   "metadata": {},
   "outputs": [],
   "source": []
  },
  {
   "cell_type": "code",
   "execution_count": null,
   "id": "ee07ba4a-20c2-48d5-8c48-197a47a0f331",
   "metadata": {},
   "outputs": [],
   "source": []
  }
 ],
 "metadata": {
  "kernelspec": {
   "display_name": "Python 3 (ipykernel)",
   "language": "python",
   "name": "python3"
  },
  "language_info": {
   "codemirror_mode": {
    "name": "ipython",
    "version": 3
   },
   "file_extension": ".py",
   "mimetype": "text/x-python",
   "name": "python",
   "nbconvert_exporter": "python",
   "pygments_lexer": "ipython3",
   "version": "3.11.7"
  }
 },
 "nbformat": 4,
 "nbformat_minor": 5
}
